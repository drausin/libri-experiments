{
 "cells": [
  {
   "cell_type": "code",
   "execution_count": null,
   "metadata": {},
   "outputs": [],
   "source": [
    "import json\n",
    "import pandas as pd\n",
    "import seaborn as sns\n",
    "import matplotlib.pyplot as plt"
   ]
  },
  {
   "cell_type": "code",
   "execution_count": null,
   "metadata": {},
   "outputs": [],
   "source": [
    "with open('../trial03/peer_query_count.json', 'r') as f:\n",
    "    peer_query_count = json.load(f)\n",
    "result = peer_query_count['data']['result']\n",
    "peers = list({r['metric']['self'] for r in result})\n",
    "print(peers)"
   ]
  },
  {
   "cell_type": "code",
   "execution_count": null,
   "metadata": {},
   "outputs": [],
   "source": [
    "def get_success_ts(result, self, other, endpoint, query_type):\n",
    "    for ts in result:\n",
    "        metric = ts['metric']\n",
    "        if metric['endpoint'] == endpoint and metric['self'] == self and metric['other'] == other and \\\n",
    "            metric['outcome'] == 'SUCCESS' and metric['query_type'] == query_type:\n",
    "            times, values = [], []\n",
    "            for time_value in ts['values']:\n",
    "                times.append(time_value[0])\n",
    "                values.append(int(time_value[1]))\n",
    "            return pd.Series(values, pd.to_datetime(times, unit='s'))"
   ]
  },
  {
   "cell_type": "code",
   "execution_count": null,
   "metadata": {},
   "outputs": [],
   "source": [
    "endpoint='Find'\n",
    "fig, axes = plt.subplots(ncols=2, nrows=4, sharey=True, sharex=True, figsize=(15,15))\n",
    "\n",
    "for i, self in enumerate(peers[8:16]):\n",
    "    diffs = {}\n",
    "    for j, other in enumerate(peers):\n",
    "        rq_values = get_success_ts(result, self, other, endpoint, query_type='REQUEST')\n",
    "        rp_values = get_success_ts(result, self, other, endpoint, query_type='RESPONSE')\n",
    "        diffs[other] = rq_values / (rq_values + rp_values)\n",
    "\n",
    "    x, y = int(i / 2), int(i % 2)\n",
    "    axes[x, y].plot(pd.DataFrame(diffs))"
   ]
  },
  {
   "cell_type": "code",
   "execution_count": null,
   "metadata": {},
   "outputs": [],
   "source": []
  }
 ],
 "metadata": {
  "kernelspec": {
   "display_name": "Python 3",
   "language": "python",
   "name": "python3"
  },
  "language_info": {
   "codemirror_mode": {
    "name": "ipython",
    "version": 3
   },
   "file_extension": ".py",
   "mimetype": "text/x-python",
   "name": "python",
   "nbconvert_exporter": "python",
   "pygments_lexer": "ipython3",
   "version": "3.6.5"
  }
 },
 "nbformat": 4,
 "nbformat_minor": 2
}
